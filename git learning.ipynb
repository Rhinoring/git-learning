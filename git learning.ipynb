{
 "cells": [
  {
   "cell_type": "raw",
   "id": "adc10154-98d5-4bd5-8fff-f69bbe91f64a",
   "metadata": {},
   "source": [
    "1. Write a program that prompts the user to input a number and display if the number \n",
    "is even or odd. "
   ]
  },
  {
   "cell_type": "code",
   "execution_count": 3,
   "id": "424b273c-f9b1-4768-ab38-e43f777e803e",
   "metadata": {},
   "outputs": [
    {
     "name": "stdin",
     "output_type": "stream",
     "text": [
      "Enter a number:  4\n"
     ]
    },
    {
     "name": "stdout",
     "output_type": "stream",
     "text": [
      "Its even\n"
     ]
    }
   ],
   "source": [
    "user_input = int(input('Enter a number: '))\n",
    "if user_input%2==0:\n",
    "    print('Its even')\n",
    "else:\n",
    "    print('Its odd')"
   ]
  },
  {
   "cell_type": "raw",
   "id": "2178ee23-9102-4e8b-b4ed-cf508cb06977",
   "metadata": {},
   "source": [
    "2. Write a Python program that takes an age as input and determines whether a person \n",
    "is eligible to vote. If the age is 18 or above, print \"You are eligible to vote.\" Otherwise, \n",
    "print \"You are not eligible to vote yet.\". "
   ]
  },
  {
   "cell_type": "code",
   "execution_count": 4,
   "id": "70ec1ee0-e5a5-414a-b9f1-6e8b53844ee7",
   "metadata": {},
   "outputs": [
    {
     "name": "stdin",
     "output_type": "stream",
     "text": [
      "Enter your age:  19\n"
     ]
    },
    {
     "name": "stdout",
     "output_type": "stream",
     "text": [
      "You are eligible for vote.\n"
     ]
    }
   ],
   "source": [
    "age = int(input('Enter your age: '))\n",
    "if age>=18:\n",
    "    print('You are eligible for vote.')\n",
    "else:\n",
    "    print('Your are not eligible to vote yet.')"
   ]
  },
  {
   "cell_type": "raw",
   "id": "ae998b7a-06e4-4703-9d22-a0c53e77c846",
   "metadata": {},
   "source": [
    "3. Write a program that prompts the user to input two integers and outputs the largest. "
   ]
  },
  {
   "cell_type": "code",
   "execution_count": 5,
   "id": "04a8d9e3-a9c9-46d9-89de-579ed4689c03",
   "metadata": {},
   "outputs": [
    {
     "name": "stdin",
     "output_type": "stream",
     "text": [
      "Enter a number:  4\n",
      "Enter a number:  5\n"
     ]
    },
    {
     "name": "stdout",
     "output_type": "stream",
     "text": [
      "5\n"
     ]
    }
   ],
   "source": [
    "user_input1 = int(input('Enter a number: '))\n",
    "user_input2 = int(input('Enter a number: '))\n",
    "if user_input1>user_input2:\n",
    "    print(user_input1)\n",
    "else:\n",
    "    print(user_input2)"
   ]
  },
  {
   "cell_type": "raw",
   "id": "e999f6e7-025f-41ab-a7cf-cb4cc58f4cca",
   "metadata": {},
   "source": [
    "4. Write a program that prompts the user to enter a number and determines whether it \n",
    "is positive, negative, or zero. The program should print \"Positive\" if the number is \n",
    "greater than 0, \"Negative\" if the number is less than 0, and \"Zero\" if the number is 0. "
   ]
  },
  {
   "cell_type": "code",
   "execution_count": 8,
   "id": "c3770dcf-e4da-44a3-a377-2bd5e0e12902",
   "metadata": {},
   "outputs": [
    {
     "name": "stdin",
     "output_type": "stream",
     "text": [
      "Enter a number:  5\n"
     ]
    },
    {
     "name": "stdout",
     "output_type": "stream",
     "text": [
      "5 is positive number.\n"
     ]
    }
   ],
   "source": [
    "user_input = int(input('Enter a number: '))\n",
    "if user_input>0:\n",
    "    print(f'{user_input} is positive number.')\n",
    "elif user_input<0:\n",
    "    print(f'{user_input} is negative nummber')\n",
    "else:\n",
    "    print(0)"
   ]
  },
  {
   "cell_type": "raw",
   "id": "fc4d5db1-76d0-4bdc-ab41-958b89a6e8f6",
   "metadata": {},
   "source": [
    "5. Write a program that prompts the user to enter their age and prints the \n",
    "corresponding age group. The program should use the following age groups: \n",
    "0-12: Child \n",
    "13-19: Teenager \n",
    "20-59: Adult \n",
    "60 and above: Senior Citizen \n"
   ]
  },
  {
   "cell_type": "code",
   "execution_count": 9,
   "id": "f3bdd17a-960d-44c8-bcf2-71dedae45210",
   "metadata": {},
   "outputs": [
    {
     "name": "stdin",
     "output_type": "stream",
     "text": [
      "Enter your age:  85\n"
     ]
    },
    {
     "name": "stdout",
     "output_type": "stream",
     "text": [
      "Senior citizen\n"
     ]
    }
   ],
   "source": [
    "age = int(input('Enter your age: '))\n",
    "if age>=0 and age<=12:\n",
    "    print('Child')\n",
    "elif age>=13 and age<=19:\n",
    "    print('Teenager')\n",
    "elif age>=20 and age<=59:\n",
    "    print(Adult)\n",
    "else:\n",
    "    print('Senior citizen')"
   ]
  },
  {
   "cell_type": "raw",
   "id": "e7ca0627-0385-43d5-92a2-37cd1ff78ef0",
   "metadata": {},
   "source": [
    "6. Write a program that prompts the user to input a number from 1 to 7. The program \n",
    "should display the corresponding day for the given number. For example, if the user \n",
    "types 1, the output should be Sunday. If the user types 7, the output should be \n",
    "Saturday. If the number is not between 1 to 7 user should get error message as shown \n",
    "in sample outpu"
   ]
  },
  {
   "cell_type": "code",
   "execution_count": 12,
   "id": "eebad6c7-3d57-4c27-87d5-9591c9cc1504",
   "metadata": {},
   "outputs": [
    {
     "name": "stdin",
     "output_type": "stream",
     "text": [
      "Enter a number from 1 to 7:  6\n"
     ]
    },
    {
     "name": "stdout",
     "output_type": "stream",
     "text": [
      "The corresponding day to 6 is Saturday\n"
     ]
    }
   ],
   "source": [
    "user_input = int(input('Enter a number from 1 to 7: '))\n",
    "day = 'Invalid input'\n",
    "if user_input==1:\n",
    "    day='Monday'\n",
    "elif user_input==2:\n",
    "    day='Tuesday'\n",
    "elif user_input==3:\n",
    "    day='wednesday'\n",
    "elif user_input==4:\n",
    "    day='Thrusday'\n",
    "elif user_input==5:\n",
    "    day='Friday'\n",
    "elif user_input==6:\n",
    "    day='Saturday'\n",
    "elif user_input==7:\n",
    "    day='Sunday'\n",
    "else:\n",
    "    print(day)\n",
    "print(f'The corresponding day to {user_input} is {day}')"
   ]
  },
  {
   "cell_type": "raw",
   "id": "2c48ce9c-3cb8-4815-9b21-91e5d6897389",
   "metadata": {},
   "source": [
    "7. Write a program that prompts the user to enter their weight (in kilograms) and height \n",
    "(in meters). The program should calculate the Body Mass Index (BMI) using the formula: \n",
    "BMI = weight / (height * height). The program should then classify the BMI into one of \n",
    "the following categories: \n",
    "less than 18.5 - Underweight \n",
    "BMI between 18.5 and 24.9 - Normal weight \n",
    "BMI between 25 and 29.9 - Overweight \n",
    "BMI 30 or greater - Obesity "
   ]
  },
  {
   "cell_type": "code",
   "execution_count": 14,
   "id": "92ad89fd-dc83-426a-bd58-e2c69c837565",
   "metadata": {},
   "outputs": [
    {
     "name": "stdin",
     "output_type": "stream",
     "text": [
      "Enter your weight in kg:  50\n",
      "Enter your height in meters:  6\n"
     ]
    },
    {
     "name": "stdout",
     "output_type": "stream",
     "text": [
      "1.3888888888888888 = Underweight\n"
     ]
    }
   ],
   "source": [
    "weight_kg = int(input('Enter your weight in kg: '))\n",
    "height_mtr = int(input('Enter your height in meters: '))\n",
    "bmi = weight_kg/(height_mtr*height_mtr)\n",
    "cat = 'Invalid input'\n",
    "if bmi<18.5:\n",
    "    cat='Underweight'\n",
    "elif bmi>=18.5 and bmi<=24.9:\n",
    "    cat='Normal weight'\n",
    "elif bmi>=25 and bmi<=29.9:\n",
    "    cat='Overweight'\n",
    "elif bmi>=30:\n",
    "    cat='Obesity'\n",
    "else:\n",
    "    print(cat)\n",
    "print(f'{bmi} = {cat}')"
   ]
  },
  {
   "cell_type": "raw",
   "id": "ae69e0fc-81f1-499b-82f1-d090ec2c6b85",
   "metadata": {},
   "source": [
    "8. The marks obtained by a student in 3 different subjects are input by the user. Your \n",
    "program should calculate the average of subjects and display the grade. The student \n",
    "gets a grade as per the following rules: \n",
    "Average Grade \n",
    "90-100 A \n",
    "80-89 B \n",
    "70-79 C \n",
    "60-69 D \n",
    "0-59 F "
   ]
  },
  {
   "cell_type": "code",
   "execution_count": 20,
   "id": "6812efd5-1d90-4bc1-93bd-00e223347e8e",
   "metadata": {},
   "outputs": [
    {
     "name": "stdin",
     "output_type": "stream",
     "text": [
      "Enter marks:  30\n",
      "Enter marks:  30\n",
      "Enter marks:  30\n"
     ]
    },
    {
     "name": "stdout",
     "output_type": "stream",
     "text": [
      "30.0\n"
     ]
    }
   ],
   "source": [
    "sub1=int(input('Enter marks: '))\n",
    "sub2=int(input('Enter marks: '))\n",
    "sub3=int(input('Enter marks: '))\n",
    "average = (sub1+sub2+sub3)/300*100\n",
    "if average>=0 and average<=59:\n",
    "    print('f')"
   ]
  },
  {
   "cell_type": "code",
   "execution_count": 5,
   "id": "1daf3e7b-6bb9-4cb8-acc8-5b004549aa88",
   "metadata": {},
   "outputs": [
    {
     "name": "stdout",
     "output_type": "stream",
     "text": [
      "fahad100\n"
     ]
    }
   ],
   "source": [
    "print('fahad',100,sep='')"
   ]
  }
 ],
 "metadata": {
  "kernelspec": {
   "display_name": "Python 3 (ipykernel)",
   "language": "python",
   "name": "python3"
  },
  "language_info": {
   "codemirror_mode": {
    "name": "ipython",
    "version": 3
   },
   "file_extension": ".py",
   "mimetype": "text/x-python",
   "name": "python",
   "nbconvert_exporter": "python",
   "pygments_lexer": "ipython3",
   "version": "3.11.7"
  }
 },
 "nbformat": 4,
 "nbformat_minor": 5
}
